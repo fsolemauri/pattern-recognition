{
  "nbformat": 4,
  "nbformat_minor": 0,
  "metadata": {
    "colab": {
      "name": "0_machine_learning_notebooks_guide.ipynb",
      "provenance": []
    },
    "kernelspec": {
      "name": "python3",
      "display_name": "Python 3"
    },
    "language_info": {
      "name": "python"
    }
  },
  "cells": [
    {
      "cell_type": "markdown",
      "source": [
        "<div style=\"width: 100%; clear: both;\">\n",
        "<div style=\"float: left; width: 50%;\">\n",
        "<img src=\"http://www.uoc.edu/portal/_resources/common/imatges/marca_UOC/UOC_Masterbrand.jpg\", align=\"left\">\n",
        "</div>\n",
        "<div style=\"float: right; width: 50%;\">\n",
        "<p style=\"margin: 0; padding-top: 22px; text-align:right;\">M0.532 · Pattern Recognition</p>\n",
        "<p style=\"margin: 0; text-align:right;\">Computational Engineering and Mathematics Master</p>\n",
        "<p style=\"margin: 0; text-align:right; padding-button: 100px;\">Computers, Multimedia and Telecommunications Department</p>\n",
        "</div>\n",
        "</div>\n",
        "<div style=\"width:100%;\">&nbsp;</div>"
      ],
      "metadata": {
        "id": "-gtnaVGOmCL3"
      }
    },
    {
      "cell_type": "markdown",
      "source": [
        "Machine Learning is a broad topic that can be used to solve multiple problems. In order to cover the topics of Pattern Recognition we have carefully chose the more rellevant notebooks from a machine learning course:\n",
        "\n",
        "https://gitlab.uoclabs.uoc.es/aprenentatge_automatic/aprenentatge_automatic\n",
        "\n",
        "<br>\n",
        "\n",
        "In addition, we created two notebooks for this course centered on computer vision applications.\n"
      ],
      "metadata": {
        "id": "epYlVo8qT5Ko"
      }
    },
    {
      "cell_type": "markdown",
      "source": [
        "The suggested order for the notebooks of this chapter are as follow:"
      ],
      "metadata": {
        "id": "sBgw3BopOVyU"
      }
    },
    {
      "cell_type": "markdown",
      "source": [
        "**Unsupervised** \n",
        "\n",
        "*   K-means https://gitlab.uoclabs.uoc.es/aprenentatge_automatic/aprenentatge_automatic/-/blob/master/1_machine_learning_introduction/04_KMeans.ipynb\n",
        "*   PCA https://gitlab.uoclabs.uoc.es/aprenentatge_automatic/aprenentatge_automatic/-/blob/master/1_machine_learning_introduction/02_PCA.ipynb\n",
        "\n"
      ],
      "metadata": {
        "id": "il47oxqZOYiy"
      }
    },
    {
      "cell_type": "markdown",
      "source": [
        "**Supervised**:\n",
        "\n",
        "* Nearest Neighbor: https://gitlab.uoclabs.uoc.es/aprenentatge_automatic/aprenentatge_automatic/-/blob/master/2_supervised_learning_classification/03_kNN.ipynb\n",
        "\n",
        "* Naive Bayes: https://gitlab.uoclabs.uoc.es/aprenentatge_automatic/aprenentatge_automatic/-/blob/master/2_supervised_learning_classification/01_NaiveBayes.ipynb\n",
        "\n",
        "* Logistic regression https://gitlab.uoclabs.uoc.es/aprenentatge_automatic/aprenentatge_automatic/-/blob/master/2_supervised_learning_classification/02_LogisticRegression.ipynb\n",
        "\n",
        "* SVM https://gitlab.uoclabs.uoc.es/aprenentatge_automatic/aprenentatge_automatic/-/blob/master/2_supervised_learning_classification/08_SupportVectorMachines.ipynb\n",
        "\n",
        "* Decision trees https://gitlab.uoclabs.uoc.es/aprenentatge_automatic/aprenentatge_automatic/-/blob/master/2_supervised_learning_classification/05_DecisionTrees.ipynb\n",
        "\n"
      ],
      "metadata": {
        "id": "Pt-9d3ISOYlv"
      }
    },
    {
      "cell_type": "markdown",
      "source": [
        "**Deep Learning** (intro with scikit-learn): \n",
        "\n",
        "* Classification with neural networks https://gitlab.uoclabs.uoc.es/aprenentatge_automatic/aprenentatge_automatic/-/blob/master/2_supervised_learning_classification/09_NeuralNetworks.ipynb\n",
        "\n",
        "* Multiclass classification\n",
        "https://gitlab.uoclabs.uoc.es/aprenentatge_automatic/aprenentatge_automatic/-/blob/master/2_supervised_learning_classification/10_MulticlassClassifiers.ipynb\n",
        "\n",
        "* Multilabel classification\n",
        "https://gitlab.uoclabs.uoc.es/aprenentatge_automatic/aprenentatge_automatic/-/blob/master/2_supervised_learning_classification/11_MultilabelClassifiers.ipynb"
      ],
      "metadata": {
        "id": "ry3Hc2D7OYog"
      }
    },
    {
      "cell_type": "markdown",
      "source": [
        "**Deep Learning**:\n",
        "\n",
        "* Introduction https://gitlab.uoclabs.uoc.es/aprenentatge_automatic/aprenentatge_automatic/-/blob/master/4_neural_networks_basics/01_NeuralNetworksIntro.ipynb\n",
        "\n",
        "* Gradient descent https://gitlab.uoclabs.uoc.es/aprenentatge_automatic/aprenentatge_automatic/-/blob/master/4_neural_networks_basics/02_NeuralNetworks_GradientDescent_BatchSize_Optimisers.ipynb\n",
        "\n",
        "* Learning rate https://gitlab.uoclabs.uoc.es/aprenentatge_automatic/aprenentatge_automatic/-/blob/master/4_neural_networks_basics/03_NeuralNetworks_WeightIni_LearningRate_CostFunction.ipynb\n",
        "\n",
        "* Overfitting https://gitlab.uoclabs.uoc.es/aprenentatge_automatic/aprenentatge_automatic/-/blob/master/4_neural_networks_basics/04_NeuralNetworks_Overfitting.ipynb\n",
        "\n",
        "\n"
      ],
      "metadata": {
        "id": "G8u4OsNqOYre"
      }
    },
    {
      "cell_type": "markdown",
      "source": [
        "**Convolutional Neural Network**:\n",
        "\n",
        "* Pooling and unpooling U-Net (notebook is in this repo):<br>  https://gitlab.uoclabs.uoc.es/patternrecognition/pattern-recognition/-/blob/master/4_Machine_Learning/2_Pooling_U_Net.ipynb\n",
        "\n",
        "* Application: Digit classification: <br>  https://gitlab.uoclabs.uoc.es/aprenentatge_automatic/aprenentatge_automatic/-/blob/master/5_neural_networks_examples/01_CNN_MNIST.ipynb\n",
        "\n",
        "\n",
        "* Transfer learning: <br>  https://gitlab.uoclabs.uoc.es/aprenentatge_automatic/aprenentatge_automatic/-/blob/master/5_neural_networks_examples/02_CNN_Transfer_Learning.ipynb\n",
        "\n",
        "\n",
        "* Network architectures and model zoos (notebook is in this repo): <br>  https://gitlab.uoclabs.uoc.es/patternrecognition/pattern-recognition/-/blob/master/4_Machine_Learning/3_Network_Architectures_and_Model_Zoos.ipynb\n",
        "\n",
        "\n",
        "\n"
      ],
      "metadata": {
        "id": "yfPxF3Esr92r"
      }
    },
    {
      "cell_type": "code",
      "execution_count": null,
      "metadata": {
        "id": "zG-yF2wNOSH-"
      },
      "outputs": [],
      "source": [
        ""
      ]
    }
  ]
}