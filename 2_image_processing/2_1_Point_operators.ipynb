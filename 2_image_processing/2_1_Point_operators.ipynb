{
  "nbformat": 4,
  "nbformat_minor": 0,
  "metadata": {
    "colab": {
      "name": "2.0 Point_operators.ipynb",
      "provenance": []
    },
    "kernelspec": {
      "name": "python3",
      "display_name": "Python 3"
    },
    "language_info": {
      "name": "python"
    }
  },
  "cells": [
    {
      "cell_type": "markdown",
      "source": [
        "<div style=\"width: 100%; clear: both;\">\n",
        "<div style=\"float: left; width: 50%;\">\n",
        "<img src=\"http://www.uoc.edu/portal/_resources/common/imatges/marca_UOC/UOC_Masterbrand.jpg\", align=\"left\">\n",
        "</div>\n",
        "<div style=\"float: right; width: 50%;\">\n",
        "<p style=\"margin: 0; padding-top: 22px; text-align:right;\">M0.532 · Pattern Recognition</p>\n",
        "<p style=\"margin: 0; text-align:right;\">Computational Engineering and Mathematics Master</p>\n",
        "<p style=\"margin: 0; text-align:right; padding-button: 100px;\">Computers, Multimedia and Telecommunications Department</p>\n",
        "</div>\n",
        "</div>\n",
        "<div style=\"width:100%;\">&nbsp;</div>"
      ],
      "metadata": {
        "id": "lf9fpMypvVxQ"
      }
    },
    {
      "cell_type": "markdown",
      "metadata": {
        "id": "cpOk0vq5ZJKN"
      },
      "source": [
        "# Point Operators"
      ]
    },
    {
      "cell_type": "code",
      "metadata": {
        "id": "ROyoZ6XHZjjB"
      },
      "source": [
        "# import OpenCV library\n",
        "import cv2\n",
        "\n",
        "# we will use the following import to display images in colab:\n",
        "from google.colab.patches import cv2_imshow\n",
        "\n"
      ],
      "execution_count": null,
      "outputs": []
    },
    {
      "cell_type": "markdown",
      "metadata": {
        "id": "YqPNnO0SZRSy"
      },
      "source": [
        "## Input images \n",
        "\n",
        "We select and image from opencv samples:\n",
        "\n",
        "https://github.com/opencv/opencv/tree/master/samples/data"
      ]
    },
    {
      "cell_type": "code",
      "metadata": {
        "id": "kLB_Jab0ZdSZ"
      },
      "source": [
        "# with wget we obtain the image from the OpenCV repo (get to Colab directly, look at \"Files\" in the left menu after executing)\n",
        "!wget https://github.com/opencv/opencv/blob/244ba1a61a8a514dbd6014766dc17dfde4560487/samples/data/aero3.jpg?raw=true -O aero3.jpg"
      ],
      "execution_count": null,
      "outputs": []
    },
    {
      "cell_type": "code",
      "metadata": {
        "id": "zB7NV-86Yomc"
      },
      "source": [
        "#read image\n",
        "img = cv2.imread('aero3.jpg', cv2.IMREAD_GRAYSCALE)\n"
      ],
      "execution_count": null,
      "outputs": []
    },
    {
      "cell_type": "code",
      "metadata": {
        "id": "A_E-9-7slces"
      },
      "source": [
        "cv2_imshow(img)"
      ],
      "execution_count": null,
      "outputs": []
    },
    {
      "cell_type": "markdown",
      "metadata": {
        "id": "pg0OesCT7ns5"
      },
      "source": [
        "lets see which type of data we are using (image type, shape):"
      ]
    },
    {
      "cell_type": "code",
      "metadata": {
        "id": "WUbGM-z-h_7r"
      },
      "source": [
        "print(type(img))\n"
      ],
      "execution_count": null,
      "outputs": []
    },
    {
      "cell_type": "code",
      "metadata": {
        "id": "QkGVZaLzZj6b"
      },
      "source": [
        "#print its shape\n",
        "print('Image Dimensions :', img.shape)"
      ],
      "execution_count": null,
      "outputs": []
    },
    {
      "cell_type": "markdown",
      "metadata": {
        "id": "oaGXKEuT74kP"
      },
      "source": [
        "We can modify all the pixels in the image with the + operator:"
      ]
    },
    {
      "cell_type": "code",
      "metadata": {
        "id": "-8pNmYpqjw7P"
      },
      "source": [
        "img_2 = img + 50"
      ],
      "execution_count": null,
      "outputs": []
    },
    {
      "cell_type": "code",
      "metadata": {
        "id": "n7twX32Hlgsx"
      },
      "source": [
        "cv2_imshow(img_2)"
      ],
      "execution_count": null,
      "outputs": []
    },
    {
      "cell_type": "markdown",
      "metadata": {
        "id": "uga1WO4H8AVQ"
      },
      "source": [
        "Some pixels have gone from white (pixel values near to 255) to black (pixel values near to 0)"
      ]
    },
    {
      "cell_type": "markdown",
      "metadata": {
        "id": "WJtAYNhHnIrD"
      },
      "source": [
        "## Histogram Equalization\n",
        "\n",
        "With the histogram equalization we adjust the contrast of the image modifying the image's histogram:\n",
        "\n"
      ]
    },
    {
      "cell_type": "code",
      "metadata": {
        "id": "iNEW2FZgnJd2"
      },
      "source": [
        "#using the original image:\n",
        "img_equalized = cv2.equalizeHist(img)\n",
        "\n"
      ],
      "execution_count": null,
      "outputs": []
    },
    {
      "cell_type": "code",
      "metadata": {
        "id": "L4VUsficnJhW"
      },
      "source": [
        "cv2_imshow(img)\n"
      ],
      "execution_count": null,
      "outputs": []
    },
    {
      "cell_type": "code",
      "metadata": {
        "id": "DBojR8TKnJkl"
      },
      "source": [
        "cv2_imshow(img_equalized)"
      ],
      "execution_count": null,
      "outputs": []
    },
    {
      "cell_type": "markdown",
      "metadata": {
        "id": "wKt-dRdV-img"
      },
      "source": [
        "Image have a better contrast now, colors are more distinct from each other. Lets see the histogram"
      ]
    },
    {
      "cell_type": "code",
      "metadata": {
        "id": "HBiesIHqnp4E"
      },
      "source": [
        "# importing required libraries of opencv\n",
        "import cv2\n",
        "  \n",
        "# importing library for plotting\n",
        "from matplotlib import pyplot as plt\n",
        "  \n",
        "# find frequency of pixels in range 0-255\n",
        "histr = cv2.calcHist([img],[0],None,[256],[0,256])\n",
        "  \n",
        "# show the plotting graph of the original image:\n",
        "plt.plot(histr)\n",
        "plt.show()"
      ],
      "execution_count": null,
      "outputs": []
    },
    {
      "cell_type": "code",
      "metadata": {
        "id": "XVmaobL-pCuR"
      },
      "source": [
        "# importing required libraries of opencv\n",
        "import cv2\n",
        "  \n",
        "# importing library for plotting\n",
        "from matplotlib import pyplot as plt\n",
        "  \n",
        "# find frequency of pixels in range 0-255\n",
        "histr_eq = cv2.calcHist([img_equalized],[0],None,[256],[0,256])\n",
        "  \n",
        "# show the plotting graph of an equalized image\n",
        "plt.plot(histr_eq)\n",
        "plt.show()"
      ],
      "execution_count": null,
      "outputs": []
    },
    {
      "cell_type": "markdown",
      "metadata": {
        "id": "VQxiFNcR_XY9"
      },
      "source": [
        "The original histogram didn't have any pixel with values below 45, the equalization changed pixel values to have a flatter histogram."
      ]
    }
  ]
}
