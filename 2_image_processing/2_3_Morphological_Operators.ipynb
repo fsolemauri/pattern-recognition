{
  "nbformat": 4,
  "nbformat_minor": 0,
  "metadata": {
    "colab": {
      "name": "2.3 Morphological_Operators.ipynb",
      "provenance": []
    },
    "kernelspec": {
      "name": "python3",
      "display_name": "Python 3"
    },
    "language_info": {
      "name": "python"
    }
  },
  "cells": [
    {
      "cell_type": "markdown",
      "source": [
        "<div style=\"width: 100%; clear: both;\">\n",
        "<div style=\"float: left; width: 50%;\">\n",
        "<img src=\"http://www.uoc.edu/portal/_resources/common/imatges/marca_UOC/UOC_Masterbrand.jpg\", align=\"left\">\n",
        "</div>\n",
        "<div style=\"float: right; width: 50%;\">\n",
        "<p style=\"margin: 0; padding-top: 22px; text-align:right;\">M0.532 · Pattern Recognition</p>\n",
        "<p style=\"margin: 0; text-align:right;\">Computational Engineering and Mathematics Master</p>\n",
        "<p style=\"margin: 0; text-align:right; padding-button: 100px;\">Computers, Multimedia and Telecommunications Department</p>\n",
        "</div>\n",
        "</div>\n",
        "<div style=\"width:100%;\">&nbsp;</div>"
      ],
      "metadata": {
        "id": "lf9fpMypvVxQ"
      }
    },
    {
      "cell_type": "markdown",
      "metadata": {
        "id": "idCIhpV8dZ2m"
      },
      "source": [
        "# Morphological Operators"
      ]
    },
    {
      "cell_type": "markdown",
      "metadata": {
        "id": "fxKIgRr2dd1e"
      },
      "source": [
        "The most common binary image operations are called morphological operations, because they change the shape of the underlying binary objects (Ritter and Wilson 2000, Chapter 7).\n",
        "To perform such an operation, we first convolve the binary image with a binary structuring element and then select a binary output value depending on the thresholded result of the convolution. (This is not the usual way in which these operations are described, but I find it a nice simple way to unify the processes.) The structuring element can be any shape, from a simple 3 x 3 box filter, to more complicated disc structures. It can even correspond to a particular shape that is being sought for in the image."
      ]
    },
    {
      "cell_type": "markdown",
      "metadata": {
        "id": "s1qRDYtOfQrf"
      },
      "source": [
        "OpenCV has a tutorial for morphological operations with a detailed explanation: \n",
        "\n",
        "https://docs.opencv.org/4.5.4/d9/d61/tutorial_py_morphological_ops.html"
      ]
    },
    {
      "cell_type": "markdown",
      "metadata": {
        "id": "0wTAk5kCfhRJ"
      },
      "source": [
        "We will see the different operations with a different example:"
      ]
    },
    {
      "cell_type": "code",
      "metadata": {
        "id": "lWz6Urycfq6C"
      },
      "source": [
        "# import OpenCV library\n",
        "import cv2\n",
        "\n",
        "# we will use the following import to display images in colab:\n",
        "from google.colab.patches import cv2_imshow\n",
        "\n",
        "import numpy as np\n"
      ],
      "execution_count": null,
      "outputs": []
    },
    {
      "cell_type": "code",
      "metadata": {
        "id": "uNP3NtFBfggJ"
      },
      "source": [
        "!wget https://github.com/opencv/opencv/blob/master/samples/data/pic3.png?raw=true -O pic3.png\n",
        "\n",
        "# read image\n",
        "img = cv2.imread('pic3.png', cv2.IMREAD_GRAYSCALE)\n",
        "\n",
        "# and convert to binary (pixels lower to 200 set to 0, and the others to 255):\n",
        "img = cv2.threshold(img, 200, 255, cv2.THRESH_BINARY)[1]\n",
        "\n",
        "# in this case we will work with the inverse image:\n",
        "img = 255 - img\n"
      ],
      "execution_count": null,
      "outputs": []
    },
    {
      "cell_type": "code",
      "metadata": {
        "id": "zSGvqc_6cxsV"
      },
      "source": [
        "cv2_imshow(img)"
      ],
      "execution_count": null,
      "outputs": []
    },
    {
      "cell_type": "markdown",
      "metadata": {
        "id": "HzB61BIJgfjS"
      },
      "source": [
        "Lets create the kernels (we use 2 different to ilustrate the effect):"
      ]
    },
    {
      "cell_type": "code",
      "metadata": {
        "id": "VYHtrwGxfw7y"
      },
      "source": [
        "kernel_5x5 = np.ones((5,5),np.uint8)\n",
        "kernel_9x9 = np.ones((9,9),np.uint8)\n"
      ],
      "execution_count": null,
      "outputs": []
    },
    {
      "cell_type": "markdown",
      "metadata": {
        "id": "9sBYuXyfiqQO"
      },
      "source": [
        "## Erosion"
      ]
    },
    {
      "cell_type": "markdown",
      "metadata": {
        "id": "ZvFiRJQFiEbn"
      },
      "source": [
        "Lets start with an erosion (erodes the boundaries of the foreground object - boundary pixels with values 1 are eroded)  with the different sizes:"
      ]
    },
    {
      "cell_type": "code",
      "metadata": {
        "id": "RGZ551I6gm50"
      },
      "source": [
        "erosion_5x5 = cv2.erode(img,kernel_5x5)\n",
        "erosion_9x9 = cv2.erode(img,kernel_9x9)\n"
      ],
      "execution_count": null,
      "outputs": []
    },
    {
      "cell_type": "markdown",
      "metadata": {
        "id": "EBsDL7lDh19T"
      },
      "source": [
        "Lets display the eroded images side by side (with hconcat we concatenate the two images in the horizontal axis):"
      ]
    },
    {
      "cell_type": "code",
      "metadata": {
        "id": "ceWzE1Xrhsgl"
      },
      "source": [
        "image = cv2.hconcat([erosion_5x5, erosion_9x9])\n",
        "cv2_imshow(image)"
      ],
      "execution_count": null,
      "outputs": []
    },
    {
      "cell_type": "markdown",
      "metadata": {
        "id": "qhGf3yRmiI7F"
      },
      "source": [
        "The bigger filter erodes more the image. What happens if we increase the filter size?"
      ]
    },
    {
      "cell_type": "markdown",
      "metadata": {
        "id": "FUdtFcbDiu-c"
      },
      "source": [
        "## Dilation"
      ]
    },
    {
      "cell_type": "markdown",
      "metadata": {
        "id": "591wnebwiw2O"
      },
      "source": [
        "The opposite operation of the erosion is the dilation: it expands the boundary areas with foreground values:"
      ]
    },
    {
      "cell_type": "code",
      "metadata": {
        "id": "qZNUKZSohWLH"
      },
      "source": [
        "dilation_5x5 = cv2.dilate(img,kernel_5x5)\n",
        "dilation_9x9 = cv2.dilate(img,kernel_9x9)"
      ],
      "execution_count": null,
      "outputs": []
    },
    {
      "cell_type": "markdown",
      "metadata": {
        "id": "FETpJtOIjDwT"
      },
      "source": [
        "Lets display the result:"
      ]
    },
    {
      "cell_type": "code",
      "metadata": {
        "id": "mr1wq29Hgv3b"
      },
      "source": [
        "image = cv2.hconcat([dilation_5x5, dilation_9x9])\n",
        "cv2_imshow(image)"
      ],
      "execution_count": null,
      "outputs": []
    },
    {
      "cell_type": "markdown",
      "metadata": {
        "id": "GJF1OLP0jZqy"
      },
      "source": [
        "## Morphological gradient"
      ]
    },
    {
      "cell_type": "markdown",
      "metadata": {
        "id": "eahlFueYjd1o"
      },
      "source": [
        "It is the difference between dilation and erosion of an image: we can observe better the pixels that have been eroded and dilated:\n",
        "\n"
      ]
    },
    {
      "cell_type": "code",
      "metadata": {
        "id": "nxX9VVEVjIdJ"
      },
      "source": [
        "gradient_5x5 = cv2.morphologyEx(img, cv2.MORPH_GRADIENT, kernel_5x5)\n",
        "gradient_9x9 = cv2.morphologyEx(img, cv2.MORPH_GRADIENT, kernel_9x9)\n"
      ],
      "execution_count": null,
      "outputs": []
    },
    {
      "cell_type": "code",
      "metadata": {
        "id": "1o4nBfg5jwn3"
      },
      "source": [
        "image = cv2.hconcat([gradient_5x5, gradient_9x9])\n",
        "cv2_imshow(image)"
      ],
      "execution_count": null,
      "outputs": []
    },
    {
      "cell_type": "markdown",
      "metadata": {
        "id": "4XyPdiPLj2wI"
      },
      "source": [
        "If we use a bigger kernel we can see that borders (pixels that have changed values with the erosion/dilation) are larger. The results shows the contour of the objects"
      ]
    },
    {
      "cell_type": "markdown",
      "metadata": {
        "id": "I9gUgNVxkfi9"
      },
      "source": [
        "## Adding Noise\n",
        "\n",
        "For the next morphological operations it is needed noise in the image, lets add some noise (same function used in Non_linear_filtering notebook):"
      ]
    },
    {
      "cell_type": "markdown",
      "metadata": {
        "id": "MDA1pPnMMMGc"
      },
      "source": [
        "Lets add manually some noise to the figure (pixels with 255 values in the background area):"
      ]
    },
    {
      "cell_type": "code",
      "metadata": {
        "id": "xdpiGDCZn90f"
      },
      "source": [
        "img_noise = img.copy()\n",
        "\n",
        "# lets add white pixels in the background\n",
        "img_noise[5, 5] = 255\n",
        "img_noise[10:12, 10:12] = 255\n",
        "img_noise[50:55, 10:15] = 255\n",
        "\n",
        "# lets add black pixels in the foreground\n",
        "img_noise[55, 65] = 0\n",
        "img_noise[65:67, 65:67] = 0\n",
        "img_noise[70:75, 65:70] = 0\n",
        "\n"
      ],
      "execution_count": null,
      "outputs": []
    },
    {
      "cell_type": "code",
      "metadata": {
        "id": "M4VCj6WmoTBV"
      },
      "source": [
        "cv2_imshow(img_noise)"
      ],
      "execution_count": null,
      "outputs": []
    },
    {
      "cell_type": "markdown",
      "metadata": {
        "id": "dG7Z__ymldrR"
      },
      "source": [
        "## Opening\n",
        "\n",
        "An opening is erosion followed by dilation. It is useful in removing noise"
      ]
    },
    {
      "cell_type": "code",
      "metadata": {
        "id": "-VjCYFqglYSb"
      },
      "source": [
        "kernel_3x3 = np.ones((3,3),np.uint8)\n",
        "opening_3x3 = cv2.morphologyEx(img_noise, cv2.MORPH_OPEN, kernel_3x3)\n",
        "\n",
        "opening_5x5 = cv2.morphologyEx(img_noise, cv2.MORPH_OPEN, kernel_5x5)\n",
        "opening_9x9 = cv2.morphologyEx(img_noise, cv2.MORPH_OPEN, kernel_9x9)\n",
        "\n"
      ],
      "execution_count": null,
      "outputs": []
    },
    {
      "cell_type": "code",
      "metadata": {
        "id": "or9W60CGlsb4"
      },
      "source": [
        "image = cv2.hconcat([opening_3x3, opening_5x5, opening_9x9])\n",
        "cv2_imshow(image)"
      ],
      "execution_count": null,
      "outputs": []
    },
    {
      "cell_type": "markdown",
      "metadata": {
        "id": "0TeNg17Ol6hK"
      },
      "source": [
        "Background Noise: pixels have been successfully removed with the bigger kernel. 3x3 and 5x5 kernels only remove the noise in few pixels\n",
        "\n",
        "Foreground Noise: the erosion (first operation) is creating holes inside the image that the dilation is not able to close"
      ]
    },
    {
      "cell_type": "markdown",
      "metadata": {
        "id": "Qxh6NefwmITC"
      },
      "source": [
        "## Top Hat\n",
        "\n",
        "Top Hat is the difference between input image and Opening of the image:"
      ]
    },
    {
      "cell_type": "code",
      "metadata": {
        "id": "_8W0YfJZl1FO"
      },
      "source": [
        "top_hat_3x3 = cv2.morphologyEx(img_noise, cv2.MORPH_TOPHAT, kernel_3x3)\n",
        "top_hat_5x5 = cv2.morphologyEx(img_noise, cv2.MORPH_TOPHAT, kernel_5x5)\n",
        "top_hat_9x9 = cv2.morphologyEx(img_noise, cv2.MORPH_TOPHAT, kernel_9x9)"
      ],
      "execution_count": null,
      "outputs": []
    },
    {
      "cell_type": "code",
      "metadata": {
        "id": "PZT4NHy5mSb1"
      },
      "source": [
        "image = cv2.hconcat([top_hat_3x3, top_hat_5x5, top_hat_9x9])\n",
        "cv2_imshow(image)"
      ],
      "execution_count": null,
      "outputs": []
    },
    {
      "cell_type": "markdown",
      "metadata": {
        "id": "P5qomesmpGns"
      },
      "source": [
        "Notice that besides the noise, other pixels from the foreground also have been removed, can you explain why?"
      ]
    },
    {
      "cell_type": "markdown",
      "metadata": {
        "id": "b2SmnaAJq7Ra"
      },
      "source": [
        "## Closing\n",
        "\n",
        "Closing is useful in closing small holes inside the foreground objects, or small black points on the object."
      ]
    },
    {
      "cell_type": "code",
      "metadata": {
        "id": "Y2AnHEYXrLEs"
      },
      "source": [
        "kernel_3x3 = np.ones((3,3),np.uint8)\n",
        "closing_3x3 = cv2.morphologyEx(img_noise, cv2.MORPH_CLOSE, kernel_3x3)\n",
        "\n",
        "closing_5x5 = cv2.morphologyEx(img_noise, cv2.MORPH_CLOSE, kernel_5x5)\n",
        "closing_9x9 = cv2.morphologyEx(img_noise, cv2.MORPH_CLOSE, kernel_9x9)\n",
        "\n"
      ],
      "execution_count": null,
      "outputs": []
    },
    {
      "cell_type": "code",
      "metadata": {
        "id": "4-s5O70yrLEu"
      },
      "source": [
        "image = cv2.hconcat([closing_3x3, closing_5x5, closing_9x9])\n",
        "cv2_imshow(image)"
      ],
      "execution_count": null,
      "outputs": []
    },
    {
      "cell_type": "markdown",
      "metadata": {
        "id": "o_jyYEvHrLEx"
      },
      "source": [
        "Foreground Noise: pixels have been successfully removed with the bigger kernel. 3x3 and 5x5 kernels only remove the noise in few pixels\n",
        "\n",
        "Background Noise: remains unchanged"
      ]
    },
    {
      "cell_type": "markdown",
      "metadata": {
        "id": "qUtDV9RgrLEy"
      },
      "source": [
        "## Black Hat\n",
        "\n",
        "Top Hat is the difference between input image and closing of the image:"
      ]
    },
    {
      "cell_type": "code",
      "metadata": {
        "id": "jiuR40DrrLEy"
      },
      "source": [
        "black_hat_3x3 = cv2.morphologyEx(img_noise, cv2.MORPH_BLACKHAT, kernel_3x3)\n",
        "black_hat_5x5 = cv2.morphologyEx(img_noise, cv2.MORPH_BLACKHAT, kernel_5x5)\n",
        "black_hat_9x9 = cv2.morphologyEx(img_noise, cv2.MORPH_BLACKHAT, kernel_9x9)"
      ],
      "execution_count": null,
      "outputs": []
    },
    {
      "cell_type": "code",
      "metadata": {
        "id": "epfLiqNfrLEz"
      },
      "source": [
        "image = cv2.hconcat([black_hat_3x3, black_hat_5x5, black_hat_9x9])\n",
        "cv2_imshow(image)"
      ],
      "execution_count": null,
      "outputs": []
    },
    {
      "cell_type": "markdown",
      "metadata": {
        "id": "G5PmfI5DrLEz"
      },
      "source": [
        "The same behaviour than before can be observed: besides the noise pixels we want to change there is other pixels changed"
      ]
    },
    {
      "cell_type": "markdown",
      "metadata": {
        "id": "TcqFnIh2sCEi"
      },
      "source": [
        "# Extra"
      ]
    },
    {
      "cell_type": "markdown",
      "metadata": {
        "id": "0_hPj4DlsFTY"
      },
      "source": [
        "We have seen than opening and closing remove different kind of noise. Can you remove both elements using those operations?"
      ]
    },
    {
      "cell_type": "code",
      "metadata": {
        "id": "Piq1eyh-sA3q"
      },
      "source": [
        ""
      ],
      "execution_count": null,
      "outputs": []
    }
  ]
}