{
  "nbformat": 4,
  "nbformat_minor": 0,
  "metadata": {
    "colab": {
      "name": "2.1 Linear_filtering.ipynb",
      "provenance": []
    },
    "kernelspec": {
      "name": "python3",
      "display_name": "Python 3"
    },
    "language_info": {
      "name": "python"
    }
  },
  "cells": [
    {
      "cell_type": "markdown",
      "source": [
        "<div style=\"width: 100%; clear: both;\">\n",
        "<div style=\"float: left; width: 50%;\">\n",
        "<img src=\"http://www.uoc.edu/portal/_resources/common/imatges/marca_UOC/UOC_Masterbrand.jpg\", align=\"left\">\n",
        "</div>\n",
        "<div style=\"float: right; width: 50%;\">\n",
        "<p style=\"margin: 0; padding-top: 22px; text-align:right;\">M0.532 · Pattern Recognition</p>\n",
        "<p style=\"margin: 0; text-align:right;\">Computational Engineering and Mathematics Master</p>\n",
        "<p style=\"margin: 0; text-align:right; padding-button: 100px;\">Computers, Multimedia and Telecommunications Department</p>\n",
        "</div>\n",
        "</div>\n",
        "<div style=\"width:100%;\">&nbsp;</div>"
      ],
      "metadata": {
        "id": "lf9fpMypvVxQ"
      }
    },
    {
      "cell_type": "markdown",
      "metadata": {
        "id": "GztmtRTHZ_1U"
      },
      "source": [
        "# Linear Filtering"
      ]
    },
    {
      "cell_type": "code",
      "metadata": {
        "id": "6f4-sZIfCxip"
      },
      "source": [
        "# import OpenCV library\n",
        "import cv2\n",
        "\n",
        "# we will use the following import to display images in colab:\n",
        "from google.colab.patches import cv2_imshow\n",
        "\n",
        "# we will use numpy to generate the kernel\n",
        "import numpy as np\n",
        "\n"
      ],
      "execution_count": null,
      "outputs": []
    },
    {
      "cell_type": "code",
      "metadata": {
        "id": "lxE1WR6ZBxkY"
      },
      "source": [
        "!wget https://github.com/opencv/opencv/blob/master/samples/data/baboon.jpg?raw=true -O baboon.jpg"
      ],
      "execution_count": null,
      "outputs": []
    },
    {
      "cell_type": "code",
      "metadata": {
        "id": "1SnHM2NDXnIO"
      },
      "source": [
        "#read image\n",
        "img = cv2.imread('baboon.jpg', cv2.IMREAD_GRAYSCALE)"
      ],
      "execution_count": null,
      "outputs": []
    },
    {
      "cell_type": "code",
      "metadata": {
        "id": "hq7PcLS5CzHd"
      },
      "source": [
        "#print its shape\n",
        "print('Image Dimensions :', img.shape)"
      ],
      "execution_count": null,
      "outputs": []
    },
    {
      "cell_type": "code",
      "metadata": {
        "id": "8soFNH0oYwlb"
      },
      "source": [
        "cv2_imshow(img)"
      ],
      "execution_count": null,
      "outputs": []
    },
    {
      "cell_type": "markdown",
      "metadata": {
        "id": "0TDIjAZkPgDw"
      },
      "source": [
        "# Low pass filtering"
      ]
    },
    {
      "cell_type": "markdown",
      "metadata": {
        "id": "DwecHtfTbnp_"
      },
      "source": [
        "## Average filtering"
      ]
    },
    {
      "cell_type": "code",
      "metadata": {
        "id": "gbehz9xtY1EH"
      },
      "source": [
        "kernel_average = np.ones((5,5),np.float32)/25\n"
      ],
      "execution_count": null,
      "outputs": []
    },
    {
      "cell_type": "markdown",
      "metadata": {
        "id": "YrNvRccGciLE"
      },
      "source": [
        "Lets check that we have generated the filter correctly (all pixels have the same value and sum 1):"
      ]
    },
    {
      "cell_type": "code",
      "metadata": {
        "id": "XWcSA_Chca6h"
      },
      "source": [
        "print(kernel_average)"
      ],
      "execution_count": null,
      "outputs": []
    },
    {
      "cell_type": "code",
      "metadata": {
        "id": "cyXd70V1enGT"
      },
      "source": [
        "# the sum is 1 (float point precision!)\n",
        "print(sum(sum(kernel_average)))"
      ],
      "execution_count": null,
      "outputs": []
    },
    {
      "cell_type": "markdown",
      "metadata": {
        "id": "5xNLJKEEcqyl"
      },
      "source": [
        "The filter2D function takes the image and the kernel to filter it. We indicate  ddepth equal to cv2.CV_8U to indicate that we want the same format than the input image\n",
        "\n",
        "https://docs.opencv.org/4.5.4/d4/d86/group__imgproc__filter.html#ga27c049795ce870216ddfb366086b5a04"
      ]
    },
    {
      "cell_type": "code",
      "metadata": {
        "id": "1eeVS2UEcolW"
      },
      "source": [
        "img_average = cv2.filter2D(img,cv2.CV_8U,kernel_average)"
      ],
      "execution_count": null,
      "outputs": []
    },
    {
      "cell_type": "code",
      "metadata": {
        "id": "A5XIMKHVeLZJ"
      },
      "source": [
        "# lets check the type of the image (each pixel of the image is encoded with a \"uint8\")\n",
        "img.dtype"
      ],
      "execution_count": null,
      "outputs": []
    },
    {
      "cell_type": "code",
      "metadata": {
        "id": "Q3ayup9SeLiD"
      },
      "source": [
        "# as we set the filter to cv2.CV_8U, the output file also have the same format:\n",
        "img_average.dtype"
      ],
      "execution_count": null,
      "outputs": []
    },
    {
      "cell_type": "code",
      "metadata": {
        "id": "xDU4Perraw0J"
      },
      "source": [
        "cv2_imshow(img_average)"
      ],
      "execution_count": null,
      "outputs": []
    },
    {
      "cell_type": "markdown",
      "metadata": {
        "id": "u8WDUwPw_qnk"
      },
      "source": [
        "With the average filter the image has softer edges:"
      ]
    },
    {
      "cell_type": "markdown",
      "metadata": {
        "id": "QDxvo0ITbd3v"
      },
      "source": [
        "### Alternative average filtering\n",
        "\n",
        "We can do the same average operation with the \"blur\" function of OpenCV:"
      ]
    },
    {
      "cell_type": "markdown",
      "metadata": {
        "id": "nB3W7B_Ib9l8"
      },
      "source": [
        "Blur function documentation OpenCV:\n",
        "https://docs.opencv.org/4.5.4/d4/d86/group__imgproc__filter.html#ga8c45db9afe636703801b0b2e440fce37"
      ]
    },
    {
      "cell_type": "code",
      "metadata": {
        "id": "oyltkk6XC1dU"
      },
      "source": [
        "# the average filter is called with the blur function\n",
        "\n",
        "# you can test with different kernel sizes:\n",
        "kernel_size = (5,5)\n",
        "\n",
        "img_average_function = cv2.blur(img, kernel_size)"
      ],
      "execution_count": null,
      "outputs": []
    },
    {
      "cell_type": "code",
      "metadata": {
        "id": "LIrE82JtXkuK"
      },
      "source": [
        "cv2_imshow(img_average_function)"
      ],
      "execution_count": null,
      "outputs": []
    },
    {
      "cell_type": "code",
      "metadata": {
        "id": "3NEgZzGUa2Cd"
      },
      "source": [
        "# lets check that both images are equal\n",
        "\n",
        "# The 2 images have the same size?\n",
        "if img_average.shape == img_average_function.shape:\n",
        "  print(\"The images have the same size\")\n",
        "\n",
        "# we use substract to do the substraction pixel to pixel\n",
        "difference = cv2.subtract(img_average, img_average_function)\n",
        "\n",
        "# with countNonZero we look if there is any difference between the two images:\n",
        "if cv2.countNonZero(difference) == 0:\n",
        "  print(\"The images are completely Equal\")"
      ],
      "execution_count": null,
      "outputs": []
    },
    {
      "cell_type": "code",
      "metadata": {
        "id": "D5mbmpccfgxP"
      },
      "source": [
        ""
      ],
      "execution_count": null,
      "outputs": []
    },
    {
      "cell_type": "markdown",
      "metadata": {
        "id": "7qJ966EIkg8k"
      },
      "source": [
        "## Gaussian filter\n",
        "\n",
        "We can filter an image with a [Gaussian filter in OpenCV](https://docs.opencv.org/4.5.4/d4/d86/group__imgproc__filter.html#gaabe8c836e97159a9193fb0b11ac52cf1) with the following code:\n",
        "\n",
        "\n"
      ]
    },
    {
      "cell_type": "code",
      "metadata": {
        "id": "gt8EC68FjTm-"
      },
      "source": [
        "# ksize:\tGaussian kernel size. We use the same for the two axis \n",
        "ksize_gaussian = 15\n",
        "# sigma:\tGaussian kernel standard deviation in X direction. We use the same for the two axis \n",
        "sigma_gaussian = 5\n",
        "\n",
        "\n",
        "img_gaussian = cv2.GaussianBlur(img, (ksize_gaussian, ksize_gaussian), sigma_gaussian)"
      ],
      "execution_count": null,
      "outputs": []
    },
    {
      "cell_type": "code",
      "metadata": {
        "id": "IeJfNdqZlfKM"
      },
      "source": [
        "cv2_imshow(img_gaussian)"
      ],
      "execution_count": null,
      "outputs": []
    },
    {
      "cell_type": "markdown",
      "metadata": {
        "id": "fBDzxQOqm1vi"
      },
      "source": [
        "If we want to see the kernel that we have used for the gaussian filtering, we can call the [getGaussianKernel](https://docs.opencv.org/4.5.4/d4/d86/group__imgproc__filter.html#gac05a120c1ae92a6060dd0db190a61afa) function: \n",
        "\n",
        "\n"
      ]
    },
    {
      "cell_type": "code",
      "metadata": {
        "id": "fvUVJTy5m0-j"
      },
      "source": [
        "gaussian_filter = cv2.getGaussianKernel(\tksize_gaussian, sigma_gaussian)\n",
        "print(gaussian_filter)"
      ],
      "execution_count": null,
      "outputs": []
    },
    {
      "cell_type": "code",
      "metadata": {
        "id": "ARDB9l82mKw6"
      },
      "source": [
        "#lets plot the filter:\n",
        "\n",
        "import matplotlib.pyplot as plt\n",
        "\n",
        "plt.plot(gaussian_filter, color='magenta')\n",
        "plt.xticks(range(0,len(gaussian_filter)+1, 1)) #set the tick frequency on x-axis\n",
        "\n",
        "plt.ylabel('gaussian_filter') #set the label for y axis\n",
        "plt.xlabel('index') #set the label for x-axis\n",
        "plt.title(\"Gaussian filter used\") #set the title of the graph\n",
        "plt.show() #display the graph\n",
        "\n"
      ],
      "execution_count": null,
      "outputs": []
    },
    {
      "cell_type": "markdown",
      "metadata": {
        "id": "1LBeQSkFrEma"
      },
      "source": [
        "# Edge Extraction\n"
      ]
    },
    {
      "cell_type": "markdown",
      "metadata": {
        "id": "BhCHRDlqrSWL"
      },
      "source": [
        "Similarly to low pass filtering, we can use OpenCV to filter images but keeeping only high frequencies. We can use the [sobel](https://docs.opencv.org/4.5.4/d4/d86/group__imgproc__filter.html#gacea54f142e81b6758cb6f375ce782c8d) filter, frequently used to extract edges: "
      ]
    },
    {
      "cell_type": "code",
      "metadata": {
        "id": "1QF33ZhYnNgy"
      },
      "source": [
        "# the function is called with ( xorder = 1, yorder = 0, ksize = 3) or ( xorder = 0, yorder = 1, ksize = 3) to calculate the first x- or y- image derivative. \n",
        "\n",
        "# sobel x direction parameters (sx)\n",
        "sx_xorder = 1\n",
        "sx_yorder = 0\n",
        "sx_ksize = 3\n",
        "\n",
        "img_sobelx1 = cv2.Sobel(img,cv2.CV_64F,sx_xorder,sx_yorder,ksize=sx_ksize) \n",
        "\n",
        "# sobel y direction parameters (sy)\n",
        "sy_xorder = 0\n",
        "sy_yorder = 1\n",
        "sy_ksize = 3\n",
        "\n",
        "img_sobely1 = cv2.Sobel(img,cv2.CV_64F,sy_xorder,sy_yorder,ksize=sy_ksize) \n"
      ],
      "execution_count": null,
      "outputs": []
    },
    {
      "cell_type": "code",
      "metadata": {
        "id": "IBYc7yvwsf91"
      },
      "source": [
        "# lets display the edges in the horizontal direction:\n",
        "cv2_imshow(img_sobelx1)"
      ],
      "execution_count": null,
      "outputs": []
    },
    {
      "cell_type": "code",
      "metadata": {
        "id": "3LaHxPGrsnGd"
      },
      "source": [
        "# lets display the edges in the vertical direction:\n",
        "cv2_imshow(img_sobely1)"
      ],
      "execution_count": null,
      "outputs": []
    },
    {
      "cell_type": "markdown",
      "metadata": {
        "id": "gfOZf6E9CS9u"
      },
      "source": [
        "You can explore different parameters for the sobel filter to try to extract a better representation of the edges"
      ]
    },
    {
      "cell_type": "code",
      "metadata": {
        "id": "z-0D7Fq9so8v"
      },
      "source": [
        "# lets compute the filter with horizontal and vertical:\n",
        "\n",
        "# sobel x direction parameters (sx)\n",
        "s_xorder = 1\n",
        "s_yorder = 1\n",
        "s_ksize = 3\n",
        "\n",
        "img_sobel = cv2.Sobel(img,cv2.CV_64F,s_xorder,s_yorder,ksize=s_ksize) "
      ],
      "execution_count": null,
      "outputs": []
    },
    {
      "cell_type": "code",
      "metadata": {
        "id": "AjPCmVzPuCMz"
      },
      "source": [
        "# lets display the edges:\n",
        "cv2_imshow(img_sobel)"
      ],
      "execution_count": null,
      "outputs": []
    },
    {
      "cell_type": "code",
      "source": [
        ""
      ],
      "metadata": {
        "id": "THdplmiAFIzI"
      },
      "execution_count": null,
      "outputs": []
    }
  ]
}
