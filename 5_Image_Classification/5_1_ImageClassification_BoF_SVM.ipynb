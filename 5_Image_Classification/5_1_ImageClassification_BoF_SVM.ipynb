{
  "nbformat": 4,
  "nbformat_minor": 0,
  "metadata": {
    "colab": {
      "name": "5_1_ImageClassification_BoF_SVM.ipynb",
      "provenance": [],
      "collapsed_sections": []
    },
    "kernelspec": {
      "display_name": "Python 3",
      "name": "python3"
    },
    "language_info": {
      "name": "python"
    }
  },
  "cells": [
    {
      "cell_type": "markdown",
      "source": [
        "<div style=\"width: 100%; clear: both;\">\n",
        "<div style=\"float: left; width: 50%;\">\n",
        "<img src=\"http://www.uoc.edu/portal/_resources/common/imatges/marca_UOC/UOC_Masterbrand.jpg\", align=\"left\">\n",
        "</div>\n",
        "<div style=\"float: right; width: 50%;\">\n",
        "<p style=\"margin: 0; padding-top: 22px; text-align:right;\">M0.532 · Pattern Recognition</p>\n",
        "<p style=\"margin: 0; text-align:right;\">Computational Engineering and Mathematics Master</p>\n",
        "<p style=\"margin: 0; text-align:right; padding-button: 100px;\">Computers, Multimedia and Telecommunications Department</p>\n",
        "</div>\n",
        "</div>\n",
        "<div style=\"width:100%;\">&nbsp;</div>"
      ],
      "metadata": {
        "id": "-gtnaVGOmCL3"
      }
    },
    {
      "cell_type": "markdown",
      "source": [
        "## Image Classification with Bag of Features (BoF) and Support Vector Machines (SVM)"
      ],
      "metadata": {
        "id": "c7dLs4Ljm9Ea"
      }
    },
    {
      "cell_type": "markdown",
      "source": [
        "In this notebook, we will train an image classifier based on Bag of Features (BoF) and using SVMs. The BoF is a feature representation based on quantization. Using local features from a training dataset, these features are clustered and some representative features (the center data from each cluster) are used as reference. Once these representative features have been obtained, any image can be represented by a combination of these features. This process is done by extracting first the local features. Then, for each local feature, the nearest reference feature must be found. As a result, if we have M reference features (size of the codebook), the image will be represented as a vector f of dimension M, where each component $f_i$ will represent how many local features from the image have been assigned to the reference feature $i$. These vector representations of the images will be used to train an image classification system with Support Vector Machines."
      ],
      "metadata": {
        "id": "KFwjPIHcnKqU"
      }
    },
    {
      "cell_type": "markdown",
      "source": [
        "You should download and store the caltech 101 dataset to run this notebook:\n",
        "\n",
        "http://www.vision.caltech.edu/Image_Datasets/Caltech101/\n",
        "\n",
        "Once added to your drive you can import the images by (update datasetpath to your location):"
      ],
      "metadata": {
        "id": "Pfa6r-lABXQj"
      }
    },
    {
      "cell_type": "markdown",
      "source": [
        "Let's start by importing some data from our Google Drive account."
      ],
      "metadata": {
        "id": "Q-EihEJrqOMV"
      }
    },
    {
      "cell_type": "code",
      "metadata": {
        "colab": {
          "base_uri": "https://localhost:8080/"
        },
        "id": "yM3DrWh2K7x1",
        "outputId": "bfadc65c-9e2a-49c9-cbf0-57163d9b27e1"
      },
      "source": [
        "from google.colab import drive\n",
        " \n",
        "drive.mount('/content/drive')"
      ],
      "execution_count": null,
      "outputs": [
        {
          "output_type": "stream",
          "name": "stdout",
          "text": [
            "Drive already mounted at /content/drive; to attempt to forcibly remount, call drive.mount(\"/content/drive\", force_remount=True).\n"
          ]
        }
      ]
    },
    {
      "cell_type": "markdown",
      "source": [
        "We will be using the Caltech101 image dataset, which includes 101 categories. In the following code, we can see the names of the different categories included in Caltech101."
      ],
      "metadata": {
        "id": "jkNnNlg-qWEj"
      }
    },
    {
      "cell_type": "code",
      "metadata": {
        "colab": {
          "base_uri": "https://localhost:8080/"
        },
        "id": "NiM95D5pLSlD",
        "outputId": "f3f1c2fc-40ea-44f6-8fb4-040a2666860e"
      },
      "source": [
        "from glob import glob\n",
        "from os.path import exists, isdir, basename, join, splitext\n",
        "\n",
        "#datasetpath = '/content/drive/My Drive/Docència/Reconeixement de Patrons/Notebooks/Tema 5: Image Classification/101_ObjectCategories/'\n",
        "datasetpath = '/content/drive/MyDrive/job related/UOC - PDC/Reconeixement de Patrons/Notebooks/Tema 5: Image Classification/101_ObjectCategories/'\n",
        "\n",
        "cat_paths = [files\n",
        "              for files in glob(datasetpath + \"/*\")\n",
        "              if isdir(files)]\n",
        "cat_paths.sort()\n",
        "cats = [basename(cat_path) for cat_path in cat_paths]\n",
        "\n",
        "print(cats)"
      ],
      "execution_count": null,
      "outputs": [
        {
          "output_type": "stream",
          "name": "stdout",
          "text": [
            "[]\n"
          ]
        }
      ]
    },
    {
      "cell_type": "markdown",
      "source": [
        "Let's focus on only two categories, e.g. airplanes and motorbikes, in order to make the problem easier and faster to be trained. Therefore, we will have a binary classification problem. We will need to classify the images as either an image containing an airplane or a motorbike."
      ],
      "metadata": {
        "id": "4-wHZM59q-ru"
      }
    },
    {
      "cell_type": "code",
      "metadata": {
        "colab": {
          "base_uri": "https://localhost:8080/"
        },
        "id": "9oVT6_jzVg5f",
        "outputId": "013bf064-1541-43a6-bd8b-161dddd1eaac"
      },
      "source": [
        "cats_used = ['airplanes', 'Motorbikes']\n",
        "ncats = len(cats_used)\n",
        "print(ncats)"
      ],
      "execution_count": null,
      "outputs": [
        {
          "output_type": "stream",
          "name": "stdout",
          "text": [
            "2\n"
          ]
        }
      ]
    },
    {
      "cell_type": "markdown",
      "source": [
        "We install the OpenCV library in order to extract the local features from the images."
      ],
      "metadata": {
        "id": "Fgym4IUHrcJu"
      }
    },
    {
      "cell_type": "code",
      "metadata": {
        "colab": {
          "base_uri": "https://localhost:8080/"
        },
        "id": "4w_ZG6KMXTTU",
        "outputId": "837d28d2-1c13-4310-ef13-06fbd013d40a"
      },
      "source": [
        "!pip install opencv-contrib-python==4.4.0.44"
      ],
      "execution_count": null,
      "outputs": [
        {
          "output_type": "stream",
          "name": "stdout",
          "text": [
            "Requirement already satisfied: opencv-contrib-python==4.4.0.44 in /usr/local/lib/python3.7/dist-packages (4.4.0.44)\n",
            "Requirement already satisfied: numpy>=1.14.5 in /usr/local/lib/python3.7/dist-packages (from opencv-contrib-python==4.4.0.44) (1.21.5)\n"
          ]
        }
      ]
    },
    {
      "cell_type": "markdown",
      "source": [
        "We import the openCV cv2 module which will allows us to use some image transformations as well as extract the local features. Let's define a function extractSIFT, which computes the extract and computed the SIFT descriptors for a set of input_files given."
      ],
      "metadata": {
        "id": "yLD1kndHrt1Z"
      }
    },
    {
      "cell_type": "code",
      "metadata": {
        "id": "RG-Tpp6yFwJo"
      },
      "source": [
        "import cv2 as cv\n",
        "\n",
        "def extractSIFT(input_files):\n",
        "    all_features_dict = {}\n",
        "    feature_extractor = cv.SIFT.create()\n",
        "    for i, fname in enumerate(input_files):\n",
        "        rgb = cv.cvtColor(cv.imread(fname), cv.COLOR_BGR2RGB)\n",
        "        gray = cv.cvtColor(rgb, cv.COLOR_RGB2GRAY)\n",
        "        kp, desc = feature_extractor.detectAndCompute(gray, None)\n",
        "        all_features_dict[fname] = desc\n",
        "    return all_features_dict"
      ],
      "execution_count": null,
      "outputs": []
    },
    {
      "cell_type": "markdown",
      "source": [
        "Let's also define another function that returns all the image filenames from a given path."
      ],
      "metadata": {
        "id": "2X0nSxWWsfkI"
      }
    },
    {
      "cell_type": "code",
      "metadata": {
        "id": "LO9S2utgGI2C"
      },
      "source": [
        "EXTENSIONS = [\".jpg\", \".bmp\", \".png\", \".pgm\", \".tif\", \".tiff\"]\n",
        "\n",
        "def get_imgfiles(path):\n",
        "    all_files = []\n",
        "    all_files.extend([join(path, basename(fname))\n",
        "                    for fname in glob(path + \"/*\")\n",
        "                    if splitext(fname)[-1].lower() in EXTENSIONS])\n",
        "    return all_files"
      ],
      "execution_count": null,
      "outputs": []
    },
    {
      "cell_type": "markdown",
      "source": [
        "Then, we use both previous functions to compute the SIFT feature vectors from all the images from the two categories considered above."
      ],
      "metadata": {
        "id": "d6azCTaBsn2T"
      }
    },
    {
      "cell_type": "code",
      "metadata": {
        "id": "eYpAu5eyFIrB"
      },
      "source": [
        "all_files = []\n",
        "all_files_labels = {}\n",
        "all_features = {}\n",
        "\n",
        "for cat, label in zip(cats_used, range(ncats)):\n",
        "    cat_path = join(datasetpath, cat)\n",
        "    cat_files = get_imgfiles(cat_path)\n",
        "    cat_features = extractSIFT(cat_files)\n",
        "    all_files = all_files + cat_files\n",
        "    all_features.update(cat_features)\n",
        "    for i in cat_files:\n",
        "        all_files_labels[i] = label"
      ],
      "execution_count": null,
      "outputs": []
    },
    {
      "cell_type": "markdown",
      "source": [
        "As we have explained at the beginning of the notebook, we need to cluster the SIFT local features to generate a codebook, which will be used later to represent any image as a feature vector. In order to generate this codebook, we can use the BOWKMeansTrainer function from OpenCV. We need to specify the size of our codebook or dictionary, e.g. 100. We add all the SIFT features computed previously and we apply the function cluster to generate the codeworks or representative features of our dictionary."
      ],
      "metadata": {
        "id": "crZxo5SGtCC3"
      }
    },
    {
      "cell_type": "code",
      "metadata": {
        "id": "Vqey6YH31lZc",
        "colab": {
          "base_uri": "https://localhost:8080/",
          "height": 217
        },
        "outputId": "0c5fe895-1f59-4b05-9eb3-2ec4496e02fc"
      },
      "source": [
        "dictionarySize = 100\n",
        "BOW = cv.BOWKMeansTrainer(dictionarySize)\n",
        "\n",
        "for feat in all_features:\n",
        "    BOW.add(all_features[feat])\n",
        "dictionary = BOW.cluster()"
      ],
      "execution_count": null,
      "outputs": [
        {
          "output_type": "error",
          "ename": "error",
          "evalue": "ignored",
          "traceback": [
            "\u001b[0;31m---------------------------------------------------------------------------\u001b[0m",
            "\u001b[0;31merror\u001b[0m                                     Traceback (most recent call last)",
            "\u001b[0;32m<ipython-input-16-7c53d09c6e76>\u001b[0m in \u001b[0;36m<module>\u001b[0;34m()\u001b[0m\n\u001b[1;32m      4\u001b[0m \u001b[0;32mfor\u001b[0m \u001b[0mfeat\u001b[0m \u001b[0;32min\u001b[0m \u001b[0mall_features\u001b[0m\u001b[0;34m:\u001b[0m\u001b[0;34m\u001b[0m\u001b[0;34m\u001b[0m\u001b[0m\n\u001b[1;32m      5\u001b[0m     \u001b[0mBOW\u001b[0m\u001b[0;34m.\u001b[0m\u001b[0madd\u001b[0m\u001b[0;34m(\u001b[0m\u001b[0mall_features\u001b[0m\u001b[0;34m[\u001b[0m\u001b[0mfeat\u001b[0m\u001b[0;34m]\u001b[0m\u001b[0;34m)\u001b[0m\u001b[0;34m\u001b[0m\u001b[0;34m\u001b[0m\u001b[0m\n\u001b[0;32m----> 6\u001b[0;31m \u001b[0mdictionary\u001b[0m \u001b[0;34m=\u001b[0m \u001b[0mBOW\u001b[0m\u001b[0;34m.\u001b[0m\u001b[0mcluster\u001b[0m\u001b[0;34m(\u001b[0m\u001b[0;34m)\u001b[0m\u001b[0;34m\u001b[0m\u001b[0;34m\u001b[0m\u001b[0m\n\u001b[0m",
            "\u001b[0;31merror\u001b[0m: OpenCV(4.4.0) /tmp/pip-req-build-yln3mf6z/opencv/modules/features2d/src/bagofwords.cpp:94: error: (-215:Assertion failed) !descriptors.empty() in function 'cluster'\n"
          ]
        }
      ]
    },
    {
      "cell_type": "markdown",
      "source": [
        "We can check the shape of our dictionary. The first dimension (100) correspond to the size of the dictionary. The second dimension (128) correspond to the number of components that any SIFT feature vector has."
      ],
      "metadata": {
        "id": "gXKkaM8GuDak"
      }
    },
    {
      "cell_type": "code",
      "metadata": {
        "id": "HPWTNSHXBC0k"
      },
      "source": [
        "print(dictionary.shape)"
      ],
      "execution_count": null,
      "outputs": []
    },
    {
      "cell_type": "markdown",
      "source": [
        "Let's also check the shape of the features extracted of a given image. The first dimension (203) correspond to the number of keypoints or interesting points detected on the given image. The second dimension (128) corresponds to the number of components that any SIFT feature vector has. The number of keypoints will vary from one image to another. We will use the dictionary created before to have a fixed-size representation of any image."
      ],
      "metadata": {
        "id": "2je-brTdud60"
      }
    },
    {
      "cell_type": "code",
      "metadata": {
        "id": "NL0h6baQHQHC"
      },
      "source": [
        "# print(all_features['/content/drive/My Drive/Docència/Reconeixement de Patrons/Notebooks/Image Classification/101_ObjectCategories/Motorbikes/image_0734.jpg'].shape)\n",
        "print(all_features[datasetpath + 'Motorbikes/image_0734.jpg'].shape)"
      ],
      "execution_count": null,
      "outputs": []
    },
    {
      "cell_type": "markdown",
      "source": [
        "In order to generate a fixed-size representation for each image, what we need to do is assign each local feature to the nearest codework from our dictionary. To find the nearest codework we will use the BFMatcher, which checks the distance of a given feature to all codeworks features from our dictionary by Brute Force (BF). If we want to have a faster system, other approaches such as indexed trees can be used to find the nearest codework in a more efficient way, e.g. FlannBasedMatcher.\n",
        "\n",
        "In the following code, we use the BFMatcher to find the nearest codework from our dictionary for each local feature (desc_query) from each image. Once we have found the nearest codework for all features of a given image, we compute the histogram in order to have a normalized representation. This is done because the number of features extracted from a given image varies from one to another.\n",
        "\n",
        "We store the new feature representation in a variable named X and the corresponding label (referring to the image category) in a variable named y, which will be used later to train the image classification model."
      ],
      "metadata": {
        "id": "pU634nldvTdO"
      }
    },
    {
      "cell_type": "code",
      "metadata": {
        "id": "sXV3NpquixWk"
      },
      "source": [
        "from numpy import histogram\n",
        "import numpy as np\n",
        "\n",
        "matcher = cv.BFMatcher(normType=cv.NORM_L2)\n",
        "all_features_BOW = {}\n",
        "\n",
        "X = np.empty((len(all_files),dictionarySize))\n",
        "y = np.empty((len(all_files),))\n",
        "\n",
        "count = 0\n",
        "for filename in all_files:\n",
        "    desc_query = all_features[filename]\n",
        "    matches = matcher.match(desc_query,dictionary)\n",
        "    train_idxs = []\n",
        "    for j in range(len(matches)):\n",
        "      train_idxs.append(matches[j].trainIdx)\n",
        "    hist, bin_edges = histogram(train_idxs, bins=range(dictionarySize+1),normed=True)\n",
        "    all_features_BOW[filename] = hist\n",
        "    X[count,:] = hist\n",
        "    y[count] = all_files_labels[filename]\n",
        "    count = count + 1\n"
      ],
      "execution_count": null,
      "outputs": []
    },
    {
      "cell_type": "markdown",
      "source": [
        "We already have a fixed-size feature representation based on SIFT descriptors for each image in our dataset. Therefore, we can train a classifier based on them. For that, we will use Support Vector Machines (SVM) from the Scikit-learn library. We will also use the function train_test_split from this library to split the data into two subsets, one for training and another one for testing. Then, we train the model by using the method fit from the function SVC. Once the model has been trained, we obtain the classification accuracy by using the function score."
      ],
      "metadata": {
        "id": "BzYw3SzKxdVc"
      }
    },
    {
      "cell_type": "code",
      "metadata": {
        "id": "XFJMhhCdt-jb"
      },
      "source": [
        "from sklearn.model_selection import train_test_split\n",
        "from sklearn import svm\n",
        "\n",
        "X_train, X_test, y_train, y_test = train_test_split(X, y, test_size=0.3, random_state=0)\n",
        "\n",
        "clf = svm.SVC(kernel='linear', C=1).fit(X_train, y_train)\n",
        "clf.score(X_test, y_test)"
      ],
      "execution_count": null,
      "outputs": []
    },
    {
      "cell_type": "markdown",
      "source": [
        "Once we have the model trained, we can use it to classify images. Let's classify the first 5 images of the test set. Notice that we use the representation obtained with the BFMatcher:"
      ],
      "metadata": {
        "id": "Mm33AMeFvpTT"
      }
    },
    {
      "cell_type": "code",
      "source": [
        "clf.predict(X_test[:5])\n",
        "\n"
      ],
      "metadata": {
        "id": "nRxeJ4irvoww"
      },
      "execution_count": null,
      "outputs": []
    },
    {
      "cell_type": "markdown",
      "source": [
        "Our dataset only contains two classes (cats_used = ['airplanes', 'Motorbikes']\n",
        "). Predicted values 0 indicate airplanes and 1 motorbikes."
      ],
      "metadata": {
        "id": "1Y0btuWowyMU"
      }
    },
    {
      "cell_type": "markdown",
      "source": [
        "Instead of just doing a single split into training and test subsets, we can also define multiple splits by using the function StratifiedKFold. "
      ],
      "metadata": {
        "id": "DtNiemXpy7w3"
      }
    },
    {
      "cell_type": "code",
      "metadata": {
        "id": "BzRYyNqj1xik"
      },
      "source": [
        "from sklearn.model_selection import StratifiedKFold, KFold\n",
        "\n",
        "scores = []\n",
        "skf = StratifiedKFold(n_splits=5)\n",
        "for train, test in skf.split(X, y):\n",
        "  clf = svm.SVC(kernel='linear', C=1).fit(X[train], y[train])\n",
        "  score = clf.score(X[test], y[test])\n",
        "  scores.append(score)\n",
        "\n",
        "print(scores)"
      ],
      "execution_count": null,
      "outputs": []
    },
    {
      "cell_type": "code",
      "source": [
        ""
      ],
      "metadata": {
        "id": "r41PuZPevbO9"
      },
      "execution_count": null,
      "outputs": []
    }
  ]
}