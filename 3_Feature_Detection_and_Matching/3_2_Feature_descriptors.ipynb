{
  "nbformat": 4,
  "nbformat_minor": 0,
  "metadata": {
    "colab": {
      "name": "3.2_Feature_descriptors.ipynb",
      "provenance": [],
      "collapsed_sections": []
    },
    "kernelspec": {
      "name": "python3",
      "display_name": "Python 3"
    },
    "language_info": {
      "name": "python"
    }
  },
  "cells": [
    {
      "cell_type": "markdown",
      "source": [
        "<div style=\"width: 100%; clear: both;\">\n",
        "<div style=\"float: left; width: 50%;\">\n",
        "<img src=\"http://www.uoc.edu/portal/_resources/common/imatges/marca_UOC/UOC_Masterbrand.jpg\", align=\"left\">\n",
        "</div>\n",
        "<div style=\"float: right; width: 50%;\">\n",
        "<p style=\"margin: 0; padding-top: 22px; text-align:right;\">M0.532 · Pattern Recognition</p>\n",
        "<p style=\"margin: 0; text-align:right;\">Computational Engineering and Mathematics Master</p>\n",
        "<p style=\"margin: 0; text-align:right; padding-button: 100px;\">Computers, Multimedia and Telecommunications Department</p>\n",
        "</div>\n",
        "</div>\n",
        "<div style=\"width:100%;\">&nbsp;</div>"
      ],
      "metadata": {
        "id": "lf9fpMypvVxQ"
      }
    },
    {
      "cell_type": "markdown",
      "source": [
        "# Feature descriptors"
      ],
      "metadata": {
        "id": "bDy0uTqzeev_"
      }
    },
    {
      "cell_type": "markdown",
      "source": [
        "For this notebook we need to do the install of the contrib modules from OpenCV. Contrib contains patended algorithms and others under development. SIFT and ORB algorithms are in contrib module"
      ],
      "metadata": {
        "id": "fpxH6uC1Lvmx"
      }
    },
    {
      "cell_type": "code",
      "source": [
        "!pip install opencv-contrib-python==4.4.0.44"
      ],
      "metadata": {
        "id": "QhvRxtx1Ltkt"
      },
      "execution_count": null,
      "outputs": []
    },
    {
      "cell_type": "code",
      "metadata": {
        "id": "lWz6Urycfq6C"
      },
      "source": [
        "# import OpenCV library\n",
        "import cv2\n",
        "\n",
        "# we will use the following import to display images in colab:\n",
        "from google.colab.patches import cv2_imshow\n",
        "\n",
        "import numpy as np\n"
      ],
      "execution_count": null,
      "outputs": []
    },
    {
      "cell_type": "code",
      "metadata": {
        "id": "uNP3NtFBfggJ"
      },
      "source": [
        "!wget https://github.com/opencv/opencv/blob/master/samples/data/rubberwhale1.png?raw=true -O rubberwhale1.png\n",
        "\n",
        "# read image\n",
        "img = cv2.imread('rubberwhale1.png', cv2.IMREAD_COLOR)\n",
        "\n",
        "# convert image to grayscale\n",
        "img_gray = cv2.cvtColor(img, cv2.COLOR_BGR2GRAY)\n"
      ],
      "execution_count": null,
      "outputs": []
    },
    {
      "cell_type": "markdown",
      "source": [
        "We use the same initialization than the feature detection notebook:"
      ],
      "metadata": {
        "id": "GD0Tvp22hi2H"
      }
    },
    {
      "cell_type": "code",
      "source": [
        "sift = cv2.xfeatures2d.SIFT_create()\n",
        "orb = cv2.ORB_create()"
      ],
      "metadata": {
        "id": "gquD-vmphnUx"
      },
      "execution_count": null,
      "outputs": []
    },
    {
      "cell_type": "markdown",
      "source": [
        "But now we call detectAndCompute instead of detect, we pass and empty mask to find keypoints in the whole image:    "
      ],
      "metadata": {
        "id": "DIlqnVBChuaK"
      }
    },
    {
      "cell_type": "code",
      "source": [
        "keypoints_sift, descriptors_sift = sift.detectAndCompute(img, mask=None)\n",
        "keypoints_orb, descriptors_orb = orb.detectAndCompute(img, mask=None)"
      ],
      "metadata": {
        "id": "XpZbL5JJexbt"
      },
      "execution_count": null,
      "outputs": []
    },
    {
      "cell_type": "markdown",
      "source": [
        "And plot the results (same than feature detection):"
      ],
      "metadata": {
        "id": "xax1GKOgN6P0"
      }
    },
    {
      "cell_type": "code",
      "source": [
        "img_sift = np.empty((img.shape[0], img.shape[1], 3), dtype=np.uint8)\n",
        "img_sift = cv2.drawKeypoints(img, keypoints_sift, img_sift)\n",
        "\n",
        "img_orb = np.empty((img.shape[0], img.shape[1], 3), dtype=np.uint8)\n",
        "img_orb = cv2.drawKeypoints(img, keypoints_orb, img_orb)"
      ],
      "metadata": {
        "id": "SzPXvN6FNZ6a"
      },
      "execution_count": null,
      "outputs": []
    },
    {
      "cell_type": "code",
      "source": [
        "cv2_imshow(cv2.hconcat([img_sift, img_orb]))"
      ],
      "metadata": {
        "id": "MYPD2DdENlj7"
      },
      "execution_count": null,
      "outputs": []
    },
    {
      "cell_type": "markdown",
      "source": [
        "Lets analyse the keypoints and descriptors computed:    "
      ],
      "metadata": {
        "id": "9SG0wm-TilmQ"
      }
    },
    {
      "cell_type": "code",
      "source": [
        "type(keypoints_sift)"
      ],
      "metadata": {
        "id": "B28x55fukw8n"
      },
      "execution_count": null,
      "outputs": []
    },
    {
      "cell_type": "code",
      "source": [
        "len(keypoints_sift)"
      ],
      "metadata": {
        "id": "EfY9B0edkncS"
      },
      "execution_count": null,
      "outputs": []
    },
    {
      "cell_type": "markdown",
      "source": [
        "We can obtain the coordinates of the keypoints with the [keypoint_convert](https://docs.opencv.org/4.x/d2/d29/classcv_1_1KeyPoint.html) function: "
      ],
      "metadata": {
        "id": "3HrkdfxQlhPT"
      }
    },
    {
      "cell_type": "code",
      "source": [
        " cv2.KeyPoint_convert(keypoints_sift)"
      ],
      "metadata": {
        "id": "wtUXkTXrk7wC"
      },
      "execution_count": null,
      "outputs": []
    },
    {
      "cell_type": "markdown",
      "source": [
        "To sum up: Keypoints it's a list with the coordinates of the keypoints found"
      ],
      "metadata": {
        "id": "7azC5Upqk2S6"
      }
    },
    {
      "cell_type": "code",
      "source": [
        "descriptors_sift.shape"
      ],
      "metadata": {
        "id": "WCz69iu6ipul"
      },
      "execution_count": null,
      "outputs": []
    },
    {
      "cell_type": "markdown",
      "source": [
        "We can display the contents of one of the sift descriptor:\n",
        "\n"
      ],
      "metadata": {
        "id": "nEyw_FOYeQ5_"
      }
    },
    {
      "cell_type": "code",
      "source": [
        "descriptors_sift[0]"
      ],
      "metadata": {
        "id": "dtoHm5_OWtht"
      },
      "execution_count": null,
      "outputs": []
    },
    {
      "cell_type": "markdown",
      "source": [
        "The keypoint descriptor has been computed by:\n",
        "\n",
        "* Take a 16x16 neighbourhood around the keypoint \n",
        "* Divide the neighbourhood into 16 sub-blocks of 4x4 size\n",
        "* For each sub-block a 8 bin orientation histogram is created. \n",
        "\n",
        "This form a total of 128 bin values for each keypoint."
      ],
      "metadata": {
        "id": "zqqms6G4hUhh"
      }
    },
    {
      "cell_type": "markdown",
      "source": [
        "Descriptors store for each keypoint the sift descriptors. Try changing the sift configuration to get different number of parameters"
      ],
      "metadata": {
        "id": "2eA_nSRIlvU-"
      }
    },
    {
      "cell_type": "markdown",
      "source": [
        "Analogously with the orb keypoints and descriptors:"
      ],
      "metadata": {
        "id": "q_f17TTOl78q"
      }
    },
    {
      "cell_type": "code",
      "source": [
        "len(keypoints_orb)"
      ],
      "metadata": {
        "id": "kA91F0u7mCoa"
      },
      "execution_count": null,
      "outputs": []
    },
    {
      "cell_type": "code",
      "source": [
        "descriptors_orb.shape"
      ],
      "metadata": {
        "id": "O9_oNpykjSLI"
      },
      "execution_count": null,
      "outputs": []
    },
    {
      "cell_type": "code",
      "source": [
        ""
      ],
      "metadata": {
        "id": "x_UvQJgUjZt9"
      },
      "execution_count": null,
      "outputs": []
    }
  ]
}
